{
 "cells": [
  {
   "cell_type": "code",
   "execution_count": 2,
   "id": "9252dbd7",
   "metadata": {},
   "outputs": [],
   "source": [
    "import datetime\n",
    "now = datetime.datetime.now()\n",
    "# print(now)\n",
    "\n",
    "import csv\n",
    "import os\n",
    "# Assign a variable to load a file from a path.\n",
    "file_to_load = os.path.join(\"Resources\", \"election_results.csv\")\n",
    "# Assign a variable to save the file to a path.\n",
    "file_to_save = os.path.join(\"analysis\", \"election_analysis.txt\")\n",
    "\n",
    "\n"
   ]
  },
  {
   "cell_type": "code",
   "execution_count": 3,
   "id": "4e636b3c",
   "metadata": {},
   "outputs": [],
   "source": [
    "candidate_options =[]\n",
    "candidate_votes = {}\n",
    "county_votes = {}\n",
    "winning_candidate = \"\"\n",
    "winning_count = 0\n",
    "election_table = []\n",
    "\n",
    "\n"
   ]
  },
  {
   "cell_type": "code",
   "execution_count": 5,
   "id": "3b82af45",
   "metadata": {},
   "outputs": [],
   "source": [
    "# Open the election results, read the file into a dictionary\n",
    "with open(file_to_load) as election_csv:\n",
    "    election_data = csv.reader(election_csv, delimiter=\",\")\n",
    "# To do: perform analysis.\n",
    "    for row  in election_data:\n",
    "        election_table.append(row)\n",
    "     "
   ]
  },
  {
   "cell_type": "code",
   "execution_count": 6,
   "id": "59cefb0b",
   "metadata": {},
   "outputs": [
    {
     "name": "stdout",
     "output_type": "stream",
     "text": [
      "['Ballot ID', 'County', 'Candidate']\n",
      "['1323913', 'Jefferson', 'Charles Casper Stockham']\n",
      "Jefferson\n",
      "Charles Casper Stockham\n"
     ]
    }
   ],
   "source": [
    "print(election_table[0])\n",
    "print(election_table[1])\n",
    "print(election_table[1][1])\n",
    "print(election_table[2][2])\n"
   ]
  },
  {
   "cell_type": "code",
   "execution_count": 7,
   "id": "e7b64b65",
   "metadata": {},
   "outputs": [
    {
     "data": {
      "text/plain": [
       "369712"
      ]
     },
     "execution_count": 7,
     "metadata": {},
     "output_type": "execute_result"
    }
   ],
   "source": [
    "len(election_table)"
   ]
  },
  {
   "cell_type": "code",
   "execution_count": 8,
   "id": "170fa17e",
   "metadata": {},
   "outputs": [],
   "source": [
    "#candidate_options = []\n",
    "counties = []\n"
   ]
  },
  {
   "cell_type": "code",
   "execution_count": 9,
   "id": "6cd21fe7",
   "metadata": {},
   "outputs": [],
   "source": [
    "# pull out the counties from the data \n",
    "for row in election_table:\n",
    "    if row[1] not in counties:\n",
    "        counties.append(row[1])"
   ]
  },
  {
   "cell_type": "code",
   "execution_count": 10,
   "id": "f727e75b",
   "metadata": {},
   "outputs": [
    {
     "data": {
      "text/plain": [
       "['County', 'Jefferson', 'Denver', 'Arapahoe']"
      ]
     },
     "execution_count": 10,
     "metadata": {},
     "output_type": "execute_result"
    }
   ],
   "source": [
    "counties"
   ]
  },
  {
   "cell_type": "code",
   "execution_count": 11,
   "id": "6122d4b9",
   "metadata": {},
   "outputs": [
    {
     "data": {
      "text/plain": [
       "['Jefferson', 'Denver', 'Arapahoe']"
      ]
     },
     "execution_count": 11,
     "metadata": {},
     "output_type": "execute_result"
    }
   ],
   "source": [
    "counties.remove('County')\n",
    "counties"
   ]
  },
  {
   "cell_type": "code",
   "execution_count": 12,
   "id": "853a2a44",
   "metadata": {},
   "outputs": [],
   "source": [
    "county_counts = {}\n"
   ]
  },
  {
   "cell_type": "code",
   "execution_count": 13,
   "id": "8399f9db",
   "metadata": {},
   "outputs": [
    {
     "data": {
      "text/plain": [
       "{'Jefferson': 0, 'Denver': 0, 'Arapahoe': 0}"
      ]
     },
     "execution_count": 13,
     "metadata": {},
     "output_type": "execute_result"
    }
   ],
   "source": [
    "#initialize county_count object\n",
    "#county_counts['Jefferson']\n",
    "for county in counties:\n",
    "    county_counts[county] = 0 \n",
    "county_counts    \n"
   ]
  },
  {
   "cell_type": "code",
   "execution_count": 14,
   "id": "7d11cc35",
   "metadata": {},
   "outputs": [
    {
     "data": {
      "text/plain": [
       "{'Jefferson': 38855, 'Denver': 306055, 'Arapahoe': 24801}"
      ]
     },
     "execution_count": 14,
     "metadata": {},
     "output_type": "execute_result"
    }
   ],
   "source": [
    "#count the number of votes in each county\n",
    "\n",
    "for county in counties:\n",
    "    for row in election_table:\n",
    "      if county in row[1]:\n",
    "         county_counts[county] = county_counts[county] +1\n",
    "county_counts\n",
    "        "
   ]
  },
  {
   "cell_type": "code",
   "execution_count": 15,
   "id": "1dfc8b53",
   "metadata": {},
   "outputs": [
    {
     "data": {
      "text/plain": [
       "369711"
      ]
     },
     "execution_count": 15,
     "metadata": {},
     "output_type": "execute_result"
    }
   ],
   "source": [
    "sum(county_counts.values())"
   ]
  },
  {
   "cell_type": "code",
   "execution_count": 16,
   "id": "7912fb9e",
   "metadata": {},
   "outputs": [],
   "source": [
    "#initialize the candidates list\n",
    "candidates = []\n",
    "candidate_counts = {}"
   ]
  },
  {
   "cell_type": "code",
   "execution_count": 17,
   "id": "7b5a8804",
   "metadata": {},
   "outputs": [
    {
     "data": {
      "text/plain": [
       "['Candidate',\n",
       " 'Charles Casper Stockham',\n",
       " 'Diana DeGette',\n",
       " 'Raymon Anthony Doane']"
      ]
     },
     "execution_count": 17,
     "metadata": {},
     "output_type": "execute_result"
    }
   ],
   "source": [
    "# pull out the candidates from the data \n",
    "for row in election_table:\n",
    "    if row[2] not in candidates:\n",
    "        candidates.append(row[2])\n",
    "candidates"
   ]
  },
  {
   "cell_type": "code",
   "execution_count": 18,
   "id": "800de6a4",
   "metadata": {},
   "outputs": [
    {
     "data": {
      "text/plain": [
       "['Charles Casper Stockham', 'Diana DeGette', 'Raymon Anthony Doane']"
      ]
     },
     "execution_count": 18,
     "metadata": {},
     "output_type": "execute_result"
    }
   ],
   "source": [
    "candidates.remove(\"Candidate\")\n",
    "candidates"
   ]
  },
  {
   "cell_type": "code",
   "execution_count": 19,
   "id": "543091d9",
   "metadata": {},
   "outputs": [
    {
     "data": {
      "text/plain": [
       "{'Charles Casper Stockham': 0, 'Diana DeGette': 0, 'Raymon Anthony Doane': 0}"
      ]
     },
     "execution_count": 19,
     "metadata": {},
     "output_type": "execute_result"
    }
   ],
   "source": [
    "#initialize candidate_votes object\n",
    "\n",
    "for candidate in candidates:\n",
    "    candidate_counts[candidate] = 0 \n",
    "candidate_counts "
   ]
  },
  {
   "cell_type": "code",
   "execution_count": 20,
   "id": "c214187c",
   "metadata": {},
   "outputs": [
    {
     "data": {
      "text/plain": [
       "{'Charles Casper Stockham': 85213,\n",
       " 'Diana DeGette': 272892,\n",
       " 'Raymon Anthony Doane': 11606}"
      ]
     },
     "execution_count": 20,
     "metadata": {},
     "output_type": "execute_result"
    }
   ],
   "source": [
    "#count the number of votes for each candidate\n",
    "for candidate in candidates:\n",
    "    for row in election_table:\n",
    "      if candidate in row[2]:\n",
    "         candidate_counts[candidate] = candidate_counts[candidate] +1\n",
    "candidate_counts"
   ]
  },
  {
   "cell_type": "code",
   "execution_count": 21,
   "id": "e074123d",
   "metadata": {},
   "outputs": [
    {
     "data": {
      "text/plain": [
       "369711"
      ]
     },
     "execution_count": 21,
     "metadata": {},
     "output_type": "execute_result"
    }
   ],
   "source": [
    "total_votes = sum(candidate_counts.values())\n",
    "total_votes"
   ]
  },
  {
   "cell_type": "code",
   "execution_count": 22,
   "id": "1f8468fb",
   "metadata": {},
   "outputs": [
    {
     "data": {
      "text/plain": [
       "['Charles Casper Stockham', 'Diana DeGette', 'Raymon Anthony Doane']"
      ]
     },
     "execution_count": 22,
     "metadata": {},
     "output_type": "execute_result"
    }
   ],
   "source": [
    "list(candidate_counts.keys())"
   ]
  },
  {
   "cell_type": "code",
   "execution_count": 23,
   "id": "a71c3112",
   "metadata": {},
   "outputs": [
    {
     "name": "stdout",
     "output_type": "stream",
     "text": [
      "Total votes , 369711 \n",
      "------------------------------- \n",
      "Charles Casper Stockham , 23 %\n"
     ]
    }
   ],
   "source": [
    "#testing logic of candidate percent calc\n",
    "\n",
    "candidate_percent = []\n",
    "zz = round(100*candidate_counts[\"Charles Casper Stockham\"] / total_votes)\n",
    "\n",
    "print(f\"Total votes , {total_votes} \")\n",
    "print(\"------------------------------- \")\n",
    "\n",
    "print(f\"Charles Casper Stockham , {zz} %\")\n"
   ]
  },
  {
   "cell_type": "code",
   "execution_count": 24,
   "id": "cfeb7f4e",
   "metadata": {},
   "outputs": [
    {
     "name": "stdout",
     "output_type": "stream",
     "text": [
      "Election Results \n",
      "-------------------------------- \n",
      "Total votes =  369,711 \n",
      "-------------------------------- \n",
      "Charles Casper Stockham , 23.0 % (85,213)\n",
      "Diana DeGette , 73.8 % (272,892)\n",
      "Raymon Anthony Doane , 3.1 % (11,606)\n"
     ]
    }
   ],
   "source": [
    "#cycle through the votes for each candidate and print % summary\n",
    "\n",
    "print(\"Election Results \")\n",
    "print(\"-------------------------------- \")\n",
    "print(f\"Total votes =  {total_votes:,} \")\n",
    "print(\"-------------------------------- \")\n",
    "\n",
    "for candidate in candidates:\n",
    "    candidate_percent = round(100*candidate_counts[candidate] / total_votes,1)\n",
    "    print(f\"{candidate} , {candidate_percent} % ({candidate_counts[candidate]:,})\")\n",
    "\n"
   ]
  },
  {
   "cell_type": "code",
   "execution_count": 25,
   "id": "1016bffc",
   "metadata": {},
   "outputs": [
    {
     "name": "stdout",
     "output_type": "stream",
     "text": [
      "Election Results \n",
      "-------------------------------- \n",
      "Total votes =  369,711 \n",
      "-------------------------------- \n",
      "Jefferson , 10.5 % (38,855)\n",
      "Denver , 82.8 % (306,055)\n",
      "Arapahoe , 6.7 % (24,801)\n"
     ]
    }
   ],
   "source": [
    "#cycle through the votes for each county and print % summary\n",
    "\n",
    "print(\"Election Results \")\n",
    "print(\"-------------------------------- \")\n",
    "print(f\"Total votes =  {total_votes:,} \")\n",
    "print(\"-------------------------------- \")\n",
    "\n",
    "for county in counties:\n",
    "    county_percent = round(100*county_counts[county] / total_votes,1)\n",
    "    print(f\"{county} , {county_percent} % ({county_counts[county]:,})\")"
   ]
  },
  {
   "cell_type": "code",
   "execution_count": 26,
   "id": "4fcd78e0",
   "metadata": {},
   "outputs": [
    {
     "name": "stdout",
     "output_type": "stream",
     "text": [
      "Diana DeGette\n",
      "73.8\n"
     ]
    }
   ],
   "source": [
    "#winning candidate summary stats\n",
    "winner=max(candidate_counts, key=candidate_counts.get)\n",
    "winning_percent = round(100*candidate_counts[winner]/ total_votes,1)\n",
    "print(winner)\n",
    "print(winning_percent)\n"
   ]
  },
  {
   "cell_type": "code",
   "execution_count": 27,
   "id": "2bbd07c9",
   "metadata": {},
   "outputs": [
    {
     "name": "stdout",
     "output_type": "stream",
     "text": [
      "-------------------------------- \n",
      "Largest county turnout: Denver \n",
      "-------------------------------- \n"
     ]
    }
   ],
   "source": [
    "#winning county\n",
    "max_county=max(county_counts, key=county_counts.get)\n",
    "\n",
    "print(\"-------------------------------- \")\n",
    "print(f\"Largest county turnout: {max_county} \")\n",
    "print(\"-------------------------------- \")\n",
    "\n"
   ]
  },
  {
   "cell_type": "code",
   "execution_count": 28,
   "id": "ed497d48",
   "metadata": {},
   "outputs": [
    {
     "name": "stdout",
     "output_type": "stream",
     "text": [
      "winner: Diana DeGette \n",
      "Winning vote count: 272,892 \n",
      "Winning perentage: 73.8 %\n",
      "-------------------------------- \n"
     ]
    }
   ],
   "source": [
    "print(f\"winner: {winner} \")\n",
    "print(f\"Winning vote count: {candidate_counts[winner]:,} \")\n",
    "print(f\"Winning perentage: {winning_percent} %\")\n",
    "print(\"-------------------------------- \")\n",
    "\n"
   ]
  },
  {
   "cell_type": "code",
   "execution_count": 29,
   "id": "0feb5875",
   "metadata": {},
   "outputs": [
    {
     "data": {
      "text/plain": [
       "{'Charles Casper Stockham': 85213,\n",
       " 'Diana DeGette': 272892,\n",
       " 'Raymon Anthony Doane': 11606}"
      ]
     },
     "execution_count": 29,
     "metadata": {},
     "output_type": "execute_result"
    }
   ],
   "source": [
    "candidate_counts"
   ]
  },
  {
   "cell_type": "code",
   "execution_count": 30,
   "id": "d6e42b4d",
   "metadata": {},
   "outputs": [
    {
     "name": "stdout",
     "output_type": "stream",
     "text": [
      "Charles Casper Stockham\n",
      "Diana DeGette\n",
      "Raymon Anthony Doane\n"
     ]
    }
   ],
   "source": [
    "print(list(candidate_counts.keys())[0])\n",
    "print(list(candidate_counts.keys())[1])\n",
    "print(list(candidate_counts.keys())[2])\n"
   ]
  },
  {
   "cell_type": "code",
   "execution_count": 79,
   "id": "dc699714",
   "metadata": {},
   "outputs": [],
   "source": [
    "keys = list(candidate_counts.keys())"
   ]
  },
  {
   "cell_type": "code",
   "execution_count": 80,
   "id": "dad57a15",
   "metadata": {},
   "outputs": [
    {
     "data": {
      "text/plain": [
       "'Charles Casper Stockham'"
      ]
     },
     "execution_count": 80,
     "metadata": {},
     "output_type": "execute_result"
    }
   ],
   "source": [
    "keys[0]"
   ]
  },
  {
   "cell_type": "code",
   "execution_count": 31,
   "id": "2e2dc316",
   "metadata": {},
   "outputs": [
    {
     "name": "stdout",
     "output_type": "stream",
     "text": [
      "Election Results \n",
      "-------------------------------- \n",
      "Total votes =  369,711 \n",
      "-------------------------------- \n",
      "Jefferson , 10.5 % (38,855)\n",
      "Denver , 82.8 % (306,055)\n",
      "Arapahoe , 6.7 % (24,801)\n",
      "-------------------------------- \n",
      "Largest county turnout: Denver \n",
      "-------------------------------- \n",
      "Charles Casper Stockham , 23.0 % (85,213)\n",
      "Diana DeGette , 73.8 % (272,892)\n",
      "Raymon Anthony Doane , 3.1 % (11,606)\n",
      "-------------------------------- \n",
      "winner: Diana DeGette \n",
      "Winning vote count: 272,892 \n",
      "Winning perentage: 73.8 %\n",
      "-------------------------------- \n"
     ]
    }
   ],
   "source": [
    "#create overall consolidated summary \n",
    "\n",
    "print(\"Election Results \")\n",
    "print(\"-------------------------------- \")\n",
    "print(f\"Total votes =  {total_votes:,} \")\n",
    "print(\"-------------------------------- \")\n",
    "\n",
    "#county summary\n",
    "for county in counties:\n",
    "    county_percent = round(100*county_counts[county] / total_votes,1)\n",
    "    print(f\"{county} , {county_percent} % ({county_counts[county]:,})\")\n",
    "\n",
    "max_county=max(county_counts, key=county_counts.get)\n",
    "\n",
    "print(\"-------------------------------- \")\n",
    "print(f\"Largest county turnout: {max_county} \")\n",
    "print(\"-------------------------------- \")\n",
    "\n",
    "#candidate summary\n",
    "\n",
    "for candidate in candidates:\n",
    "    candidate_percent = round(100*candidate_counts[candidate] / total_votes,1)\n",
    "    print(f\"{candidate} , {candidate_percent} % ({candidate_counts[candidate]:,})\")\n",
    "\n",
    "#winning candidate summary\n",
    "\n",
    "print(\"-------------------------------- \")\n",
    "print(f\"winner: {winner} \")\n",
    "print(f\"Winning vote count: {candidate_counts[winner]:,} \")\n",
    "print(f\"Winning perentage: {winning_percent} %\")\n",
    "print(\"-------------------------------- \")\n"
   ]
  },
  {
   "cell_type": "code",
   "execution_count": 40,
   "id": "4583add5",
   "metadata": {},
   "outputs": [],
   "source": [
    "#write election results to file \n",
    "file_to_save = os.path.join(\"analysis\", \"election_analysis.txt\")\n",
    "with open(file_to_save, \"w\") as txt_file:\n",
    "    txt_file.write(\"Election Results\\n \")\n",
    "    txt_file.write(\"--------------------------------\\n \")\n",
    "    txt_file.write(f\"Total votes =  {total_votes:,} \\n\")\n",
    "    txt_file.write(\"-------------------------------- \\n\")\n",
    "\n",
    "    #county summary\n",
    "    for county in counties:\n",
    "        county_percent = round(100*county_counts[county] / total_votes,1)\n",
    "        txt_file.write(f\"{county} , {county_percent} % ({county_counts[county]:,})\\n\")\n",
    "\n",
    "    max_county=max(county_counts, key=county_counts.get)\n",
    "\n",
    "    txt_file.write(\"-------------------------------- \\n\")\n",
    "    txt_file.write(f\"Largest county turnout: {max_county} \\n\")\n",
    "    txt_file.write(\"-------------------------------- \\n\")\n",
    "\n",
    "    #candidate summary\n",
    "\n",
    "    for candidate in candidates:\n",
    "        candidate_percent = round(100*candidate_counts[candidate] / total_votes,1)\n",
    "        txt_file.write(f\"{candidate} , {candidate_percent} % ({candidate_counts[candidate]:,})\\n\")\n",
    "\n",
    "    #winning candidate summary\n",
    "\n",
    "    txt_file.write(\"-------------------------------- \\n\")\n",
    "    txt_file.write(f\"winner: {winner} \\n\")\n",
    "    txt_file.write(f\"Winning vote count: {candidate_counts[winner]:,}\\n \")\n",
    "    txt_file.write(f\"Winning perentage: {winning_percent} %\\n\")\n",
    "    txt_file.write(\"-------------------------------- \\n\")\n",
    "\n"
   ]
  },
  {
   "cell_type": "code",
   "execution_count": null,
   "id": "f97e39ec",
   "metadata": {},
   "outputs": [],
   "source": [
    "# The data we need to retrieve\n",
    "# 1. The total number of votes cast\n",
    "# 2. A complete list of candidates who received votes\n",
    "# 3. The percentage of votes each candidate won\n",
    "# 4. The total number of votes each candidate won\n",
    "# 5. The winner of hte election based on popular vote\n",
    "\n",
    "\n",
    "dir(csv)\n"
   ]
  },
  {
   "cell_type": "code",
   "execution_count": 62,
   "id": "a41d2826",
   "metadata": {},
   "outputs": [
    {
     "name": "stdout",
     "output_type": "stream",
     "text": [
      "[]\n"
     ]
    }
   ],
   "source": [
    "print(election_table)"
   ]
  }
 ],
 "metadata": {
  "interpreter": {
   "hash": "e1355be9c08ae7218fdc6ae6030756d0d83dcdb142ed24e6c6ba326440674237"
  },
  "kernelspec": {
   "display_name": "Python 3.9.7 ('base')",
   "language": "python",
   "name": "python3"
  },
  "language_info": {
   "codemirror_mode": {
    "name": "ipython",
    "version": 3
   },
   "file_extension": ".py",
   "mimetype": "text/x-python",
   "name": "python",
   "nbconvert_exporter": "python",
   "pygments_lexer": "ipython3",
   "version": "3.9.7"
  }
 },
 "nbformat": 4,
 "nbformat_minor": 5
}
